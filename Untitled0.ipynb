{
  "nbformat": 4,
  "nbformat_minor": 0,
  "metadata": {
    "colab": {
      "provenance": [],
      "toc_visible": true,
      "authorship_tag": "ABX9TyPCT10kc1RfANgfjVcYnI7L",
      "include_colab_link": true
    },
    "kernelspec": {
      "name": "python3",
      "display_name": "Python 3"
    },
    "language_info": {
      "name": "python"
    }
  },
  "cells": [
    {
      "cell_type": "markdown",
      "metadata": {
        "id": "view-in-github",
        "colab_type": "text"
      },
      "source": [
        "<a href=\"https://colab.research.google.com/github/mkplus44/Extending-Power-BI-with-Python-and-R/blob/main/Untitled0.ipynb\" target=\"_parent\"><img src=\"https://colab.research.google.com/assets/colab-badge.svg\" alt=\"Open In Colab\"/></a>"
      ]
    },
    {
      "cell_type": "code",
      "execution_count": 5,
      "metadata": {
        "colab": {
          "base_uri": "https://localhost:8080/"
        },
        "id": "vsZDPySR-Io5",
        "outputId": "8f4aa56b-c6f7-4da0-fe64-434e8548b557"
      },
      "outputs": [
        {
          "output_type": "stream",
          "name": "stdout",
          "text": [
            "adios\n"
          ]
        }
      ],
      "source": [
        "print(variable)"
      ]
    },
    {
      "cell_type": "code",
      "source": [
        "variable =\"adios\""
      ],
      "metadata": {
        "id": "U59SywVR-gyZ"
      },
      "execution_count": 4,
      "outputs": []
    }
  ]
}