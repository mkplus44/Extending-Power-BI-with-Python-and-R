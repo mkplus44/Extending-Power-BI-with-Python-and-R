{
  "cells": [
    {
      "cell_type": "markdown",
      "metadata": {
        "id": "view-in-github",
        "colab_type": "text"
      },
      "source": [
        "<a href=\"https://colab.research.google.com/github/mkplus44/Extending-Power-BI-with-Python-and-R/blob/main/CursoGoogleColab.ipynb\" target=\"_parent\"><img src=\"https://colab.research.google.com/assets/colab-badge.svg\" alt=\"Open In Colab\"/></a>"
      ]
    },
    {
      "cell_type": "markdown",
      "source": [
        "## Ingest\n"
      ],
      "metadata": {
        "id": "JLxtwJJedh5F"
      }
    },
    {
      "cell_type": "code",
      "source": [
        "import pandas as pd\n"
      ],
      "metadata": {
        "id": "QC8UAK4WdkhF"
      },
      "execution_count": 2,
      "outputs": []
    },
    {
      "cell_type": "markdown",
      "source": [
        "## EDA"
      ],
      "metadata": {
        "id": "ll5lZBGfdlh5"
      }
    },
    {
      "cell_type": "code",
      "source": [],
      "metadata": {
        "id": "amQxIHXtdnhl"
      },
      "execution_count": null,
      "outputs": []
    },
    {
      "cell_type": "markdown",
      "source": [
        "## Modeling\n",
        "\n"
      ],
      "metadata": {
        "id": "bQbkmLHGeJY2"
      }
    },
    {
      "cell_type": "code",
      "source": [],
      "metadata": {
        "id": "1varMwlseNeT"
      },
      "execution_count": null,
      "outputs": []
    },
    {
      "cell_type": "markdown",
      "source": [
        "## Conclusion\n"
      ],
      "metadata": {
        "id": "2BZObczgeNpp"
      }
    },
    {
      "cell_type": "code",
      "source": [],
      "metadata": {
        "id": "vMSWoZTxeRBP"
      },
      "execution_count": null,
      "outputs": []
    }
  ],
  "metadata": {
    "colab": {
      "provenance": [],
      "gpuType": "T4",
      "authorship_tag": "ABX9TyPnnVcAD6fND7f5QAhrh27Q",
      "include_colab_link": true
    },
    "kernelspec": {
      "display_name": "Python 3",
      "name": "python3"
    },
    "language_info": {
      "name": "python"
    },
    "accelerator": "GPU"
  },
  "nbformat": 4,
  "nbformat_minor": 0
}